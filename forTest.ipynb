{
 "cells": [
  {
   "cell_type": "code",
   "execution_count": null,
   "metadata": {},
   "outputs": [],
   "source": []
  },
  {
   "cell_type": "code",
   "execution_count": 15,
   "metadata": {},
   "outputs": [
    {
     "name": "stdout",
     "output_type": "stream",
     "text": [
      "Your word is: ferrari\n",
      "Letras adivinadas: {'f'}\n",
      "Letras adivinadas: {'f', 'e'}\n",
      "Letras adivinadas: {'f', 'e', 'r'}\n",
      "Letras adivinadas: {'f', 'e', 'r'}\n",
      "Letras adivinadas: {'f', 'e', 'a', 'r'}\n",
      "Letras adivinadas: {'f', 'e', 'a', 'r'}\n",
      "Letras adivinadas: {'a', 'f', 'r', 'i', 'e'}\n",
      "Letras adivinadas: {'a', 'f', 'r', 'i', 'e'}\n",
      "Letras adivinadas: {'a', 'f', 'r', 'i', 'e'}\n",
      "Letras adivinadas: {'a', 'f', 'r', 'i', 'e'}\n",
      "Letras adivinadas: {'a', 'f', 'r', 'i', 'e'}\n",
      "Letras adivinadas: {'a', 'f', 'r', 'i', 'e'}\n",
      "Letras adivinadas: {'a', 'f', 'r', 'i', 'e'}\n",
      "Letras adivinadas: {'a', 'f', 'r', 'i', 'e'}\n",
      "Letras adivinadas: {'a', 'f', 'r', 'i', 'e'}\n",
      "Letras adivinadas: {'a', 'f', 'r', 'i', 'e'}\n",
      "Letras adivinadas: {'a', 'f', 'r', 'i', 'e'}\n",
      "Letras adivinadas: {'a', 'f', 'r', 'i', 'e'}\n",
      "Letras adivinadas: {'a', 'f', 'r', 'i', 'e'}\n",
      "Letras adivinadas: {'a', 'f', 'r', 'i', 'e'}\n",
      "Letras adivinadas: {'a', 'f', 'r', 'i', 'e'}\n"
     ]
    }
   ],
   "source": [
    "import random\n",
    "letterGuessed=set()\n",
    "chances = 0\n",
    "\n",
    "listOfWords = ['ferrari', 'turtle', 'movie', 'theater']\n",
    "selectedWord = random.choice(listOfWords)\n",
    "print(f'Your word is: {selectedWord}')\n",
    "\n",
    "while chances < 3:\n",
    "    letter = input(' ')\n",
    "    for letter in selectedWord:\n",
    "        if letter in selectedWord:\n",
    "            letterGuessed.add(letter)\n",
    "        print(f'Letras adivinadas: {letterGuessed}')\n",
    "        \n",
    "    else:\n",
    "            chances += 1\n",
    "\n",
    "\n",
    "\n",
    "    "
   ]
  }
 ],
 "metadata": {
  "kernelspec": {
   "display_name": "Python 3",
   "language": "python",
   "name": "python3"
  },
  "language_info": {
   "codemirror_mode": {
    "name": "ipython",
    "version": 3
   },
   "file_extension": ".py",
   "mimetype": "text/x-python",
   "name": "python",
   "nbconvert_exporter": "python",
   "pygments_lexer": "ipython3",
   "version": "3.12.0"
  }
 },
 "nbformat": 4,
 "nbformat_minor": 2
}
