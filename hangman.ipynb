{
 "cells": [
  {
   "cell_type": "code",
   "execution_count": 1,
   "metadata": {},
   "outputs": [
    {
     "name": "stdout",
     "output_type": "stream",
     "text": [
      "Hellow Frank, welcome to hangman game!\n",
      "we are selecting you word\n",
      "Your word have 6... Good luck!\n",
      "This letter is not in the word\n",
      "This letter is not in the word\n",
      "This letter is not in the word\n",
      "This letter is not in the word\n",
      "This letter is not in the word\n",
      "This letter is not in the word\n"
     ]
    }
   ],
   "source": [
    "# Librarys to import\n",
    "import time\n",
    "import random\n",
    "# first modification on git\n",
    "#Variables\n",
    "letterGuessed = set() \n",
    "\n",
    "#Funcion para seleccionar la palabra de manera aleatoria\n",
    "def hangManGame():\n",
    "    listOfWords = ['ferrari', 'turtle', 'movie', 'theater']\n",
    "    selectedWord = random.choice(listOfWords)\n",
    "    return selectedWord\n",
    "\n",
    "def sustituveWord(word, sustitute):         \n",
    "    letter = input('Introduce a letter: ')\n",
    "    for i in word:\n",
    "        if letter in word:\n",
    "                sustitute += letter\n",
    "                sustitute = ''.join([letter if letter in word else '_ ' for i in sustitute])\n",
    "        elif letter in sustitute:\n",
    "            print('This letter is aleready guessed!')\n",
    "        else:\n",
    "            print('This letter is not in the word')\n",
    "#Main function game\n",
    "name = input('Welcome to HangMan!! Please type your name: ')\n",
    "characteres = len(name) \n",
    "\n",
    "if name.isalpha and characteres  <= 10:\n",
    "    print(f'Hellow {name}, welcome to hangman game!')\n",
    "    answer = input(f'{name} Are you ready to Play? (Y =Yes, N = NO)').strip().lower()\n",
    "    \n",
    "    if answer == 'y':\n",
    "        print('we are selecting you word')\n",
    "        wordGame = hangManGame()\n",
    "        print(f'Your word have {len(wordGame)} letters... Good luck!')\n",
    "        sustituveWord(wordGame,letterGuessed)\n",
    "\n",
    "    elif answer == 'n':\n",
    "        print('Okey! come back when you are ready')\n",
    "    else:\n",
    "        print('wrong answer - (Y =Yes, N = NO)')\n",
    "else:\n",
    "    print(f'\"{name}\" is wrong')\n",
    "\n",
    "\n"
   ]
  },
  {
   "cell_type": "code",
   "execution_count": null,
   "metadata": {},
   "outputs": [],
   "source": []
  }
 ],
 "metadata": {
  "kernelspec": {
   "display_name": "Python 3",
   "language": "python",
   "name": "python3"
  },
  "language_info": {
   "codemirror_mode": {
    "name": "ipython",
    "version": 3
   },
   "file_extension": ".py",
   "mimetype": "text/x-python",
   "name": "python",
   "nbconvert_exporter": "python",
   "pygments_lexer": "ipython3",
   "version": "3.12.0"
  }
 },
 "nbformat": 4,
 "nbformat_minor": 2
}
