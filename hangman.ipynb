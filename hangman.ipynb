{
 "cells": [
  {
   "cell_type": "code",
   "execution_count": 1,
   "metadata": {},
   "outputs": [
    {
     "name": "stdout",
     "output_type": "stream",
     "text": [
      "Hellow Frank, welcome to hangman game!\n",
      "we are selecting you word\n",
      "Your word have 6... Good luck!\n",
      "This letter is not in the word\n",
      "This letter is not in the word\n",
      "This letter is not in the word\n",
      "This letter is not in the word\n",
      "This letter is not in the word\n",
      "This letter is not in the word\n"
     ]
    }
   ],
   "source": [
    "# Librarys to import\n",
    "import time\n",
    "import random\n",
    "\n",
    "#Variables\n",
    "letterGuessed = set() \n",
    "\n",
    "#Funtions\n",
    "def hangManGame():\n",
    "    listOfWords = ['ferrari', 'turtle', 'movie', 'theater']\n",
    "    selectedWord = random.choice(listOfWords)\n",
    "    return selectedWord\n",
    "\n",
    "def mainGame(a, b): \n",
    "    # a: selectedword\n",
    "    # b: set para almacenar las letras           \n",
    "    letter = input('Introduce a letter: ')\n",
    "    chances = 0\n",
    "    while chances < 3:\n",
    "        for i in a:\n",
    "            if letter in a:\n",
    "                b += letter\n",
    "                b = ''.join([letter if letter in b else '_ ' for i in b])\n",
    "\n",
    "            elif letter in b:\n",
    "                print('This letter is aleready guessed!')\n",
    "            else:\n",
    "                print('This letter is not in the word')\n",
    "                chances += 1\n",
    "\n",
    "# - - - - - - - - - - - - - - - - - - - - - \n",
    "\n",
    "name = input('Welcome to HangMan!! Please type your name: ')\n",
    "characteres = len(name) \n",
    "\n",
    "if name.isalpha and characteres  <= 10:\n",
    "    print(f'Hellow {name}, welcome to hangman game!')\n",
    "    answer = input(f'{name} Are you ready to Play? (Y =Yes, N = NO)').strip().lower()\n",
    "    \n",
    "    if answer == 'y':\n",
    "        print('we are selecting you word')\n",
    "        time.sleep(2)\n",
    "        wordGame = hangManGame()\n",
    "        print(f'Your word have {len(wordGame)} letters... Good luck!')\n",
    "        \n",
    "        mainGame(wordGame,letterGuessed)\n",
    "\n",
    "    elif answer == 'n':\n",
    "        print('Okey! come back when you are ready')\n",
    "    else:\n",
    "        print('wrong answer - (Y =Yes, N = NO)')\n",
    "else:\n",
    "    print(f'The format of \"{name}\" is wrong')\n",
    "\n",
    "\n"
   ]
  },
  {
   "cell_type": "code",
   "execution_count": null,
   "metadata": {},
   "outputs": [],
   "source": []
  }
 ],
 "metadata": {
  "kernelspec": {
   "display_name": "Python 3",
   "language": "python",
   "name": "python3"
  },
  "language_info": {
   "codemirror_mode": {
    "name": "ipython",
    "version": 3
   },
   "file_extension": ".py",
   "mimetype": "text/x-python",
   "name": "python",
   "nbconvert_exporter": "python",
   "pygments_lexer": "ipython3",
   "version": "3.12.0"
  }
 },
 "nbformat": 4,
 "nbformat_minor": 2
}
