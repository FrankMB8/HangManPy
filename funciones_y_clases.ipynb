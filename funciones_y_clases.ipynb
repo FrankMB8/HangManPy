{
 "cells": [
  {
   "cell_type": "code",
   "execution_count": 1,
   "metadata": {},
   "outputs": [],
   "source": [
    "def bisiesto():\n",
    "    # se crea una condición múltiple\n",
    "    anio = int(input('Ingrese un año: '))\n",
    "    \n",
    "    while True:\n",
    "        if anio >= 0:\n",
    "            #Usamos el operador \"modulo\" para chequear que el resto d ela división sea cero\n",
    "            #En el condicional and se colocan paréntesis porque se van a realizar 2 evaluaciones \n",
    "            if anio % 4 == 0 and (anio % 100 != 0 or anio % 400 == 0):\n",
    "                print(f\"{anio} es bisiesto\")\n",
    "                break\n",
    "            else:\n",
    "                print(f\"{anio} no es bisiesto\")\n",
    "                break\n",
    "        #Este else es el que le sigue a el primer condicional de la función\n",
    "        else:\n",
    "            print(\"No ha ingresado un año\")\n",
    "\n"
   ]
  },
  {
   "cell_type": "code",
   "execution_count": 4,
   "metadata": {},
   "outputs": [
    {
     "name": "stdout",
     "output_type": "stream",
     "text": [
      "2025 no es bisiesto\n"
     ]
    }
   ],
   "source": [
    "bisiesto()"
   ]
  },
  {
   "cell_type": "markdown",
   "metadata": {},
   "source": [
    "Crear una funcion que pida 2 años y que informe cuantos años bisiestos hay entre esas 2 fechas (incluidas las ingresadas)"
   ]
  },
  {
   "cell_type": "code",
   "execution_count": 1,
   "metadata": {},
   "outputs": [],
   "source": [
    "def bisiestos_2():\n",
    "    #Se crean 2 variables que consulten al usuario 2 años diferentes\n",
    "    while True:\n",
    "        anio_1 = int(input(\"Ingrese el año 1: \"))\n",
    "        anio_2 = int(input(\"Ingrese el año 2: \"))\n",
    "        #Debemos crear un contador desde cero para ir incrementando el valor de los años en el medio\n",
    "        count = 0\n",
    "        #Se crea el condicional que evalúe si los años son mayores a 0\n",
    "        if anio_1 >=0 and anio_2 >=0:\n",
    "            while True:\n",
    "                #Luego debemos evaluar que el año 1 sea menor que el año 2\n",
    "                if anio_1 < anio_2:\n",
    "                    #Creamos un bucle for para recorrer los años que hay en el medio de ambos y colocamos +1 para que muestre el año 2 \n",
    "                    for i in range(anio_1, anio_2 + 1):\n",
    "                        #Evaluamos en iterable \n",
    "                        if i % 4 == 0 and (i % 100 != 0 or i % 400 == 0):\n",
    "                            #En caso de que cumpla la condición le sumamos 1 al contador \n",
    "                            count += 1         \n",
    "                    break\n",
    "                else:\n",
    "                    print(\"El primer año debe ser menor al segundo\")\n",
    "                    anio_1 = int(input(\"Ingrese el año 1: \"))\n",
    "                    anio_2 = int(input(\"Ingrese el año 2: \"))\n",
    "            break\n",
    "        else:\n",
    "            print(\"Los años ingresados deben ser mayores a cero\")\n",
    "\n",
    "    print(f\"Entre el año {anio_1} y {anio_2} hay {count} bisiestos\")\n",
    "\n",
    "        "
   ]
  },
  {
   "cell_type": "code",
   "execution_count": 3,
   "metadata": {},
   "outputs": [
    {
     "name": "stdout",
     "output_type": "stream",
     "text": [
      "Entre el año 2000 y 2024 hay 7 bisiestos\n"
     ]
    }
   ],
   "source": [
    "bisiestos_2()"
   ]
  }
 ],
 "metadata": {
  "kernelspec": {
   "display_name": "Python 3",
   "language": "python",
   "name": "python3"
  },
  "language_info": {
   "codemirror_mode": {
    "name": "ipython",
    "version": 3
   },
   "file_extension": ".py",
   "mimetype": "text/x-python",
   "name": "python",
   "nbconvert_exporter": "python",
   "pygments_lexer": "ipython3",
   "version": "3.12.0"
  }
 },
 "nbformat": 4,
 "nbformat_minor": 2
}
